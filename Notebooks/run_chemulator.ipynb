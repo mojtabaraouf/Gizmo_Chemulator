{
 "cells": [
  {
   "cell_type": "code",
   "execution_count": 1,
   "metadata": {},
   "outputs": [],
   "source": [
    "import pandas as pd\n",
    "import numpy as np\n",
    "import matplotlib.pyplot as plt\n",
    "#plt.style.use(\"thesis\")\n",
    "from os.path import join\n",
    "import seaborn as sns\n",
    "from sys import path\n",
    "path.insert(0,'../src/')\n",
    "from glob import glob\n",
    "from chemulator import Chemulator\n",
    "import matplotlib.gridspec as gridspec\n",
    "from time import perf_counter\n",
    "import h5py\n",
    "import tensorflow as tf\n",
    "\n",
    "tf.compat.v1.disable_eager_execution()\n",
    "from snapshot_functions import get_elemental_abundances\n"
   ]
  },
  {
   "cell_type": "code",
   "execution_count": 2,
   "metadata": {},
   "outputs": [],
   "source": [
    "#constants\n",
    "XH  = 0.76                        # the hydrogen mass fraction\n",
    "gama= 5.0/3.0                     # the adiabatic index\n",
    "KB  = 1.3807e-16                  # the Boltzmann constant in CGS units  [cm^2 g s^-2 K^-1]\n",
    "KB_kev  = 8.6173324e-8 \n",
    "mp  = 1.6726e-24                  # proton mass in CGS units\n",
    "UnitMass_in_g = 1.989e43\n",
    "UnitLength_in_cm    = 3.085678e21\n",
    "PROTONMASS=1.6726e-24\n",
    "UnitDensity_in_cgs = UnitMass_in_g / UnitLength_in_cm**3\n",
    "UnitDensity_in_pccm = UnitDensity_in_cgs/PROTONMASS"
   ]
  },
  {
   "cell_type": "markdown",
   "metadata": {},
   "source": [
    "# Prepare Input\n",
    "\n",
    "Load the data that we processed in `data_explore.ipynb` and do a few final modifications. Start by making sure all abundances are set up and then making sure we only have the necessary columns. Then use `emulator.prepare_input` to prepare the data for the chemulator by scaling it."
   ]
  },
  {
   "cell_type": "code",
   "execution_count": 3,
   "metadata": {},
   "outputs": [
    {
     "name": "stdout",
     "output_type": "stream",
     "text": [
      "Num GPUs Available:  1\n"
     ]
    }
   ],
   "source": [
    "print(\"Num GPUs Available: \", len(tf.config.list_physical_devices('GPU')))"
   ]
  },
  {
   "cell_type": "code",
   "execution_count": 4,
   "metadata": {},
   "outputs": [],
   "source": [
    "autoencoder_dir=\"../autoencoders/noisy_8_encoder/\"\n",
    "emulator=Chemulator(autoencoder_dir)\n",
    "emulator.load_model(\"../emulators/local-uv-test/\")"
   ]
  },
  {
   "cell_type": "code",
   "execution_count": 5,
   "metadata": {},
   "outputs": [],
   "source": [
    "# input_data=pd.read_hdf(\"../chemulator_input.hdf\",key=\"df\").reset_index(drop=True)\n",
    "# filename = \"/Users/raouf/Work_space/projects/ParticleGridMapper.jl/main_snap/CHIMES_1205_1e6/snapshot_060.hdf5\"\n",
    "filename = \"/Users/raouf/Work_space/projects/ParticleGridMapper.jl/CHIMES_1906/snapshots/snapshot_060.hdf5\"\n",
    "f = h5py.File(filename, \"r\")"
   ]
  },
  {
   "cell_type": "code",
   "execution_count": 6,
   "metadata": {},
   "outputs": [
    {
     "data": {
      "text/plain": [
       "(297048, 11)"
      ]
     },
     "execution_count": 6,
     "metadata": {},
     "output_type": "execute_result"
    }
   ],
   "source": [
    "f['PartType0']['Metallicity'].shape"
   ]
  },
  {
   "cell_type": "code",
   "execution_count": 7,
   "metadata": {},
   "outputs": [
    {
     "data": {
      "text/plain": [
       "<KeysViewHDF5 ['ArtificialViscosity', 'ChimesAbundances', 'ChimesColumnDensity', 'ChimesMu', 'CoolingRate', 'Coordinates', 'Density', 'HeatingRate', 'HydroHeatingRate', 'InternalEnergy', 'Masses', 'MetalCoolingRate', 'Metallicity', 'MolecularMassFraction', 'NetHeatingRateQ', 'ParticleChildIDsNumber', 'ParticleIDGenerationNumber', 'ParticleIDs', 'SmoothingLength', 'StarFormationRate', 'TimeStep', 'Velocities']>"
      ]
     },
     "execution_count": 7,
     "metadata": {},
     "output_type": "execute_result"
    }
   ],
   "source": [
    "f[\"PartType0\"].keys()"
   ]
  },
  {
   "cell_type": "code",
   "execution_count": 8,
   "metadata": {},
   "outputs": [],
   "source": [
    "input_data=get_elemental_abundances(f[\"PartType0\"][\"ChimesAbundances\"])"
   ]
  },
  {
   "cell_type": "code",
   "execution_count": 9,
   "metadata": {},
   "outputs": [
    {
     "data": {
      "text/html": [
       "<div>\n",
       "<style scoped>\n",
       "    .dataframe tbody tr th:only-of-type {\n",
       "        vertical-align: middle;\n",
       "    }\n",
       "\n",
       "    .dataframe tbody tr th {\n",
       "        vertical-align: top;\n",
       "    }\n",
       "\n",
       "    .dataframe thead th {\n",
       "        text-align: right;\n",
       "    }\n",
       "</style>\n",
       "<table border=\"1\" class=\"dataframe\">\n",
       "  <thead>\n",
       "    <tr style=\"text-align: right;\">\n",
       "      <th></th>\n",
       "      <th>H</th>\n",
       "      <th>D</th>\n",
       "      <th>He</th>\n",
       "      <th>C</th>\n",
       "      <th>N</th>\n",
       "      <th>O</th>\n",
       "      <th>F</th>\n",
       "      <th>P</th>\n",
       "      <th>S</th>\n",
       "      <th>Cl</th>\n",
       "      <th>Li</th>\n",
       "      <th>Na</th>\n",
       "      <th>Mg</th>\n",
       "      <th>Ca</th>\n",
       "      <th>Si</th>\n",
       "      <th>PAH</th>\n",
       "      <th>15N</th>\n",
       "      <th>13C</th>\n",
       "      <th>18O</th>\n",
       "      <th>E-</th>\n",
       "    </tr>\n",
       "  </thead>\n",
       "  <tbody>\n",
       "    <tr>\n",
       "      <th>0</th>\n",
       "      <td>1.0</td>\n",
       "      <td>0.0</td>\n",
       "      <td>0.1</td>\n",
       "      <td>0.000238</td>\n",
       "      <td>0.000263</td>\n",
       "      <td>0.000412</td>\n",
       "      <td>3.211709e-07</td>\n",
       "      <td>0.0</td>\n",
       "      <td>0.000009</td>\n",
       "      <td>0.0</td>\n",
       "      <td>0.0</td>\n",
       "      <td>0.0</td>\n",
       "      <td>0.000005</td>\n",
       "      <td>0.000004</td>\n",
       "      <td>0.000004</td>\n",
       "      <td>0.0</td>\n",
       "      <td>0.0</td>\n",
       "      <td>0.0</td>\n",
       "      <td>0.0</td>\n",
       "      <td>0.000100</td>\n",
       "    </tr>\n",
       "    <tr>\n",
       "      <th>1</th>\n",
       "      <td>1.0</td>\n",
       "      <td>0.0</td>\n",
       "      <td>0.1</td>\n",
       "      <td>0.000238</td>\n",
       "      <td>0.000263</td>\n",
       "      <td>0.000412</td>\n",
       "      <td>3.211885e-07</td>\n",
       "      <td>0.0</td>\n",
       "      <td>0.000009</td>\n",
       "      <td>0.0</td>\n",
       "      <td>0.0</td>\n",
       "      <td>0.0</td>\n",
       "      <td>0.000005</td>\n",
       "      <td>0.000004</td>\n",
       "      <td>0.000004</td>\n",
       "      <td>0.0</td>\n",
       "      <td>0.0</td>\n",
       "      <td>0.0</td>\n",
       "      <td>0.0</td>\n",
       "      <td>0.000027</td>\n",
       "    </tr>\n",
       "    <tr>\n",
       "      <th>2</th>\n",
       "      <td>1.0</td>\n",
       "      <td>0.0</td>\n",
       "      <td>0.1</td>\n",
       "      <td>0.000238</td>\n",
       "      <td>0.000263</td>\n",
       "      <td>0.000412</td>\n",
       "      <td>3.211885e-07</td>\n",
       "      <td>0.0</td>\n",
       "      <td>0.000009</td>\n",
       "      <td>0.0</td>\n",
       "      <td>0.0</td>\n",
       "      <td>0.0</td>\n",
       "      <td>0.000005</td>\n",
       "      <td>0.000004</td>\n",
       "      <td>0.000004</td>\n",
       "      <td>0.0</td>\n",
       "      <td>0.0</td>\n",
       "      <td>0.0</td>\n",
       "      <td>0.0</td>\n",
       "      <td>0.000045</td>\n",
       "    </tr>\n",
       "    <tr>\n",
       "      <th>3</th>\n",
       "      <td>1.0</td>\n",
       "      <td>0.0</td>\n",
       "      <td>0.1</td>\n",
       "      <td>0.000238</td>\n",
       "      <td>0.000263</td>\n",
       "      <td>0.000412</td>\n",
       "      <td>3.212151e-07</td>\n",
       "      <td>0.0</td>\n",
       "      <td>0.000009</td>\n",
       "      <td>0.0</td>\n",
       "      <td>0.0</td>\n",
       "      <td>0.0</td>\n",
       "      <td>0.000005</td>\n",
       "      <td>0.000004</td>\n",
       "      <td>0.000004</td>\n",
       "      <td>0.0</td>\n",
       "      <td>0.0</td>\n",
       "      <td>0.0</td>\n",
       "      <td>0.0</td>\n",
       "      <td>0.000035</td>\n",
       "    </tr>\n",
       "    <tr>\n",
       "      <th>4</th>\n",
       "      <td>1.0</td>\n",
       "      <td>0.0</td>\n",
       "      <td>0.1</td>\n",
       "      <td>0.000238</td>\n",
       "      <td>0.000263</td>\n",
       "      <td>0.000412</td>\n",
       "      <td>3.211885e-07</td>\n",
       "      <td>0.0</td>\n",
       "      <td>0.000009</td>\n",
       "      <td>0.0</td>\n",
       "      <td>0.0</td>\n",
       "      <td>0.0</td>\n",
       "      <td>0.000005</td>\n",
       "      <td>0.000004</td>\n",
       "      <td>0.000004</td>\n",
       "      <td>0.0</td>\n",
       "      <td>0.0</td>\n",
       "      <td>0.0</td>\n",
       "      <td>0.0</td>\n",
       "      <td>0.000037</td>\n",
       "    </tr>\n",
       "    <tr>\n",
       "      <th>...</th>\n",
       "      <td>...</td>\n",
       "      <td>...</td>\n",
       "      <td>...</td>\n",
       "      <td>...</td>\n",
       "      <td>...</td>\n",
       "      <td>...</td>\n",
       "      <td>...</td>\n",
       "      <td>...</td>\n",
       "      <td>...</td>\n",
       "      <td>...</td>\n",
       "      <td>...</td>\n",
       "      <td>...</td>\n",
       "      <td>...</td>\n",
       "      <td>...</td>\n",
       "      <td>...</td>\n",
       "      <td>...</td>\n",
       "      <td>...</td>\n",
       "      <td>...</td>\n",
       "      <td>...</td>\n",
       "      <td>...</td>\n",
       "    </tr>\n",
       "    <tr>\n",
       "      <th>297043</th>\n",
       "      <td>1.0</td>\n",
       "      <td>0.0</td>\n",
       "      <td>0.1</td>\n",
       "      <td>0.000251</td>\n",
       "      <td>0.000263</td>\n",
       "      <td>0.000435</td>\n",
       "      <td>5.458270e-07</td>\n",
       "      <td>0.0</td>\n",
       "      <td>0.000010</td>\n",
       "      <td>0.0</td>\n",
       "      <td>0.0</td>\n",
       "      <td>0.0</td>\n",
       "      <td>0.000006</td>\n",
       "      <td>0.000004</td>\n",
       "      <td>0.000006</td>\n",
       "      <td>0.0</td>\n",
       "      <td>0.0</td>\n",
       "      <td>0.0</td>\n",
       "      <td>0.0</td>\n",
       "      <td>0.027753</td>\n",
       "    </tr>\n",
       "    <tr>\n",
       "      <th>297044</th>\n",
       "      <td>1.0</td>\n",
       "      <td>0.0</td>\n",
       "      <td>0.1</td>\n",
       "      <td>0.000252</td>\n",
       "      <td>0.000263</td>\n",
       "      <td>0.000438</td>\n",
       "      <td>4.946525e-07</td>\n",
       "      <td>0.0</td>\n",
       "      <td>0.000010</td>\n",
       "      <td>0.0</td>\n",
       "      <td>0.0</td>\n",
       "      <td>0.0</td>\n",
       "      <td>0.000006</td>\n",
       "      <td>0.000004</td>\n",
       "      <td>0.000005</td>\n",
       "      <td>0.0</td>\n",
       "      <td>0.0</td>\n",
       "      <td>0.0</td>\n",
       "      <td>0.0</td>\n",
       "      <td>0.027355</td>\n",
       "    </tr>\n",
       "    <tr>\n",
       "      <th>297045</th>\n",
       "      <td>1.0</td>\n",
       "      <td>0.0</td>\n",
       "      <td>0.1</td>\n",
       "      <td>0.000250</td>\n",
       "      <td>0.000263</td>\n",
       "      <td>0.000433</td>\n",
       "      <td>4.846439e-07</td>\n",
       "      <td>0.0</td>\n",
       "      <td>0.000010</td>\n",
       "      <td>0.0</td>\n",
       "      <td>0.0</td>\n",
       "      <td>0.0</td>\n",
       "      <td>0.000006</td>\n",
       "      <td>0.000004</td>\n",
       "      <td>0.000005</td>\n",
       "      <td>0.0</td>\n",
       "      <td>0.0</td>\n",
       "      <td>0.0</td>\n",
       "      <td>0.0</td>\n",
       "      <td>0.028000</td>\n",
       "    </tr>\n",
       "    <tr>\n",
       "      <th>297046</th>\n",
       "      <td>1.0</td>\n",
       "      <td>0.0</td>\n",
       "      <td>0.1</td>\n",
       "      <td>0.000248</td>\n",
       "      <td>0.000263</td>\n",
       "      <td>0.000431</td>\n",
       "      <td>4.330818e-07</td>\n",
       "      <td>0.0</td>\n",
       "      <td>0.000009</td>\n",
       "      <td>0.0</td>\n",
       "      <td>0.0</td>\n",
       "      <td>0.0</td>\n",
       "      <td>0.000006</td>\n",
       "      <td>0.000004</td>\n",
       "      <td>0.000005</td>\n",
       "      <td>0.0</td>\n",
       "      <td>0.0</td>\n",
       "      <td>0.0</td>\n",
       "      <td>0.0</td>\n",
       "      <td>0.025587</td>\n",
       "    </tr>\n",
       "    <tr>\n",
       "      <th>297047</th>\n",
       "      <td>1.0</td>\n",
       "      <td>0.0</td>\n",
       "      <td>0.1</td>\n",
       "      <td>0.000252</td>\n",
       "      <td>0.000263</td>\n",
       "      <td>0.000436</td>\n",
       "      <td>5.052781e-07</td>\n",
       "      <td>0.0</td>\n",
       "      <td>0.000010</td>\n",
       "      <td>0.0</td>\n",
       "      <td>0.0</td>\n",
       "      <td>0.0</td>\n",
       "      <td>0.000006</td>\n",
       "      <td>0.000004</td>\n",
       "      <td>0.000006</td>\n",
       "      <td>0.0</td>\n",
       "      <td>0.0</td>\n",
       "      <td>0.0</td>\n",
       "      <td>0.0</td>\n",
       "      <td>0.030315</td>\n",
       "    </tr>\n",
       "  </tbody>\n",
       "</table>\n",
       "<p>297048 rows × 20 columns</p>\n",
       "</div>"
      ],
      "text/plain": [
       "          H    D   He         C         N         O             F    P  \\\n",
       "0       1.0  0.0  0.1  0.000238  0.000263  0.000412  3.211709e-07  0.0   \n",
       "1       1.0  0.0  0.1  0.000238  0.000263  0.000412  3.211885e-07  0.0   \n",
       "2       1.0  0.0  0.1  0.000238  0.000263  0.000412  3.211885e-07  0.0   \n",
       "3       1.0  0.0  0.1  0.000238  0.000263  0.000412  3.212151e-07  0.0   \n",
       "4       1.0  0.0  0.1  0.000238  0.000263  0.000412  3.211885e-07  0.0   \n",
       "...     ...  ...  ...       ...       ...       ...           ...  ...   \n",
       "297043  1.0  0.0  0.1  0.000251  0.000263  0.000435  5.458270e-07  0.0   \n",
       "297044  1.0  0.0  0.1  0.000252  0.000263  0.000438  4.946525e-07  0.0   \n",
       "297045  1.0  0.0  0.1  0.000250  0.000263  0.000433  4.846439e-07  0.0   \n",
       "297046  1.0  0.0  0.1  0.000248  0.000263  0.000431  4.330818e-07  0.0   \n",
       "297047  1.0  0.0  0.1  0.000252  0.000263  0.000436  5.052781e-07  0.0   \n",
       "\n",
       "               S   Cl   Li   Na        Mg        Ca        Si  PAH  15N  13C  \\\n",
       "0       0.000009  0.0  0.0  0.0  0.000005  0.000004  0.000004  0.0  0.0  0.0   \n",
       "1       0.000009  0.0  0.0  0.0  0.000005  0.000004  0.000004  0.0  0.0  0.0   \n",
       "2       0.000009  0.0  0.0  0.0  0.000005  0.000004  0.000004  0.0  0.0  0.0   \n",
       "3       0.000009  0.0  0.0  0.0  0.000005  0.000004  0.000004  0.0  0.0  0.0   \n",
       "4       0.000009  0.0  0.0  0.0  0.000005  0.000004  0.000004  0.0  0.0  0.0   \n",
       "...          ...  ...  ...  ...       ...       ...       ...  ...  ...  ...   \n",
       "297043  0.000010  0.0  0.0  0.0  0.000006  0.000004  0.000006  0.0  0.0  0.0   \n",
       "297044  0.000010  0.0  0.0  0.0  0.000006  0.000004  0.000005  0.0  0.0  0.0   \n",
       "297045  0.000010  0.0  0.0  0.0  0.000006  0.000004  0.000005  0.0  0.0  0.0   \n",
       "297046  0.000009  0.0  0.0  0.0  0.000006  0.000004  0.000005  0.0  0.0  0.0   \n",
       "297047  0.000010  0.0  0.0  0.0  0.000006  0.000004  0.000006  0.0  0.0  0.0   \n",
       "\n",
       "        18O        E-  \n",
       "0       0.0  0.000100  \n",
       "1       0.0  0.000027  \n",
       "2       0.0  0.000045  \n",
       "3       0.0  0.000035  \n",
       "4       0.0  0.000037  \n",
       "...     ...       ...  \n",
       "297043  0.0  0.027753  \n",
       "297044  0.0  0.027355  \n",
       "297045  0.0  0.028000  \n",
       "297046  0.0  0.025587  \n",
       "297047  0.0  0.030315  \n",
       "\n",
       "[297048 rows x 20 columns]"
      ]
     },
     "execution_count": 9,
     "metadata": {},
     "output_type": "execute_result"
    }
   ],
   "source": [
    "input_data"
   ]
  },
  {
   "cell_type": "code",
   "execution_count": 11,
   "metadata": {},
   "outputs": [],
   "source": [
    "mu  = (4.*mp)/(1.+3.*XH+4.*XH*input_data[\"E-\"]) # mean Molecular weight\n",
    "input_data[\"mu\"] = mu\n",
    "# input_data=pd.DataFrame()\n",
    "input_data[\"gas_temp\"] = f['PartType0']['InternalEnergy'][()]\n",
    "input_data[\"gas_temp\"] = (gama-1)* (input_data[\"gas_temp\"]/KB)* mu* 1e10 # K\n",
    "\n",
    "input_data[\"gas_density\"]=f[\"PartType0\"][\"Density\"][()] * UnitDensity_in_pccm\n",
    "input_data[\"gas_density\"].div(mu)\n",
    "\n",
    "input_data[\"zeta\"]=10.0 # I assume also CRIR is milky way\n",
    "input_data[\"coldens\"]=f[\"PartType0\"][\"ChimesColumnDensity\"][()]\n",
    "input_data[\"Av\"]=input_data[\"coldens\"]*1.6e-21\n",
    "\n",
    "input_data[\"local_radfield\"]=1.0 #Mojtaba says he's using Milky way ISRF\n",
    "input_data[\"local_radfield\"]=input_data[\"local_radfield\"]*np.exp(-3.02*input_data[\"Av\"])\n",
    "input_data[\"local_radfield\"]=np.where(input_data[\"local_radfield\"]<1e-10,1e-10,input_data[\"local_radfield\"])#put a lower limit on that\n",
    "\n",
    "\n",
    "# for element,abundance in elemental_abundances.items():\n",
    "#     input_data[element]=abundance\n",
    "# input_data[\"metallicity\"]= input_data[\"C\"]/ 2.64e-4\n",
    "input_data[\"metallicity\"] = (f['PartType0']['Metallicity'][:,0]+\n",
    "                             f['PartType0']['Metallicity'][:,1]+\n",
    "                             f['PartType0']['Metallicity'][:,2]+\n",
    "                             f['PartType0']['Metallicity'][:,3]+\n",
    "                             f['PartType0']['Metallicity'][:,4]+\n",
    "                             f['PartType0']['Metallicity'][:,5]+\n",
    "                             f['PartType0']['Metallicity'][:,6]+\n",
    "                             f['PartType0']['Metallicity'][:,7]+\n",
    "                             f['PartType0']['Metallicity'][:,8]+\n",
    "                             f['PartType0']['Metallicity'][:,9]+\n",
    "                             f['PartType0']['Metallicity'][:,10])/11\n",
    "\n",
    "# chem_1-8\n",
    "input_data[\"CO\"]=f[\"PartType0\"][\"ChimesAbundances\"][:,148]\n",
    "input_data[\"H2\"]=f[\"PartType0\"][\"ChimesAbundances\"][:,137]\n",
    "# input_data[\"XHI\"]=f[\"PartType0\"][\"ChimesAbundances\"][:,1]\n",
    "# input_data[\"XCI\"]=f[\"PartType0\"][\"ChimesAbundances\"][:,7]\n"
   ]
  },
  {
   "cell_type": "code",
   "execution_count": 12,
   "metadata": {},
   "outputs": [
    {
     "data": {
      "text/plain": [
       "4.7171060964152955"
      ]
     },
     "execution_count": 12,
     "metadata": {},
     "output_type": "execute_result"
    }
   ],
   "source": [
    "np.log10(input_data[\"gas_density\"]).max()"
   ]
  },
  {
   "cell_type": "code",
   "execution_count": 13,
   "metadata": {},
   "outputs": [
    {
     "name": "stderr",
     "output_type": "stream",
     "text": [
      "/opt/homebrew/Caskroom/miniconda/base/envs/mlp/lib/python3.8/site-packages/pandas/core/arraylike.py:397: RuntimeWarning: divide by zero encountered in log10\n",
      "  result = getattr(ufunc, method)(*inputs, **kwargs)\n"
     ]
    },
    {
     "data": {
      "image/png": "[encoded data removed]",
      "text/plain": [
       "<Figure size 864x504 with 6 Axes>"
      ]
     },
     "metadata": {
      "needs_background": "light"
     },
     "output_type": "display_data"
    }
   ],
   "source": [
    "fig,axes=plt.subplots(2,3,figsize=(12,7))\n",
    "axes=axes.flatten()\n",
    "\n",
    "for i,variable in enumerate([\"gas_density\",\"gas_temp\",\"coldens\",\"Av\",\"CO\",\"metallicity\"]):\n",
    "    sns.histplot(np.log10(input_data[variable]),ax=axes[i])\n"
   ]
  },
  {
   "cell_type": "code",
   "execution_count": 14,
   "metadata": {},
   "outputs": [],
   "source": [
    "\n",
    "input_data_test=pd.DataFrame()\n",
    "input_data_test[\"C\"]= f[\"PartType0\"][\"ChimesAbundances\"][:,7]+f[\"PartType0\"][\"ChimesAbundances\"][:,8]+f[\"PartType0\"][\"ChimesAbundances\"][:,9]+f[\"PartType0\"][\"ChimesAbundances\"][:,10]+f[\"PartType0\"][\"ChimesAbundances\"][:,11]+f[\"PartType0\"][\"ChimesAbundances\"][:,12]+f[\"PartType0\"][\"ChimesAbundances\"][:,13]+f[\"PartType0\"][\"ChimesAbundances\"][:,14]\n",
    "input_data_test[\"E-\"]= f[\"PartType0\"][\"ChimesAbundances\"][:,0]\n",
    "input_data_test[\"mu\"]= f[\"PartType0\"][\"ChimesMu\"][()]"
   ]
  },
  {
   "cell_type": "code",
   "execution_count": 15,
   "metadata": {},
   "outputs": [
    {
     "data": {
      "text/plain": [
       "Text(0.5, 0, 'C_test')"
      ]
     },
     "execution_count": 15,
     "metadata": {},
     "output_type": "execute_result"
    },
    {
     "data": {
      "image/png": "[encoded data removed]",
      "text/plain": [
       "<Figure size 720x720 with 4 Axes>"
      ]
     },
     "metadata": {
      "needs_background": "light"
     },
     "output_type": "display_data"
    }
   ],
   "source": [
    "fig,axes=plt.subplots(2,2,figsize=(10,10))\n",
    "axes=axes.flatten()\n",
    "for i,variable in enumerate([\"E-\",\"C\"]):\n",
    "    g = sns.histplot(x=(input_data[variable]),y=(input_data_test[variable]), ax = axes[i],bins = 10)\n",
    "\n",
    "sns.histplot((input_data[\"E-\"]),ax=axes[2])\n",
    "sns.histplot((input_data_test[\"C\"]),ax=axes[3])\n",
    "# axes[0].set(xlim=(-20,-5),ylim=(-20,-5)) \n",
    "axes[0].set_ylabel(\"E\" , size = 12 )\n",
    "axes[0].set_xlabel( \"E_test\" , size = 12)\n",
    "# axes[1].set(xlim=(-10,3),ylim=(-10,3))\n",
    "axes[1].set_ylabel(\"C\" , size = 12 )\n",
    "axes[1].set_xlabel( \"C_test\" , size = 12)\n",
    "\n"
   ]
  },
  {
   "cell_type": "code",
   "execution_count": 16,
   "metadata": {},
   "outputs": [],
   "source": [
    "for species in emulator.autoencoder.species:\n",
    "    if species not in input_data.columns:\n",
    "        input_data[species]=0.0\n",
    "input_data=input_data[emulator.physics_labels+list(emulator.autoencoder.species)]"
   ]
  },
  {
   "cell_type": "code",
   "execution_count": 17,
   "metadata": {},
   "outputs": [
    {
     "name": "stderr",
     "output_type": "stream",
     "text": [
      "/Users/raouf/Dropbox/Leiden Observatory/Chemulator/Gizmo_Chemulator/Notebooks/../src/chemulator.py:126: SettingWithCopyWarning: \n",
      "A value is trying to be set on a copy of a slice from a DataFrame.\n",
      "Try using .loc[row_indexer,col_indexer] = value instead\n",
      "\n",
      "See the caveats in the documentation: https://pandas.pydata.org/pandas-docs/stable/user_guide/indexing.html#returning-a-view-versus-a-copy\n",
      "  input_data[\"metallicity\"]=(input_data[self.species].values*self.c_idxs).sum(axis=1)\n",
      "/Users/raouf/Dropbox/Leiden Observatory/Chemulator/Gizmo_Chemulator/Notebooks/../src/chemulator.py:127: SettingWithCopyWarning: \n",
      "A value is trying to be set on a copy of a slice from a DataFrame.\n",
      "Try using .loc[row_indexer,col_indexer] = value instead\n",
      "\n",
      "See the caveats in the documentation: https://pandas.pydata.org/pandas-docs/stable/user_guide/indexing.html#returning-a-view-versus-a-copy\n",
      "  input_data[\"metallicity\"]=input_data[\"metallicity\"]/2.6e-4\n",
      "/opt/homebrew/Caskroom/miniconda/base/envs/mlp/lib/python3.8/site-packages/keras/engine/training_v1.py:2079: UserWarning: `Model.state_updates` will be removed in a future version. This property should not be used in TensorFlow 2.0, as `updates` are applied automatically.\n",
      "  updates=self.state_updates,\n"
     ]
    }
   ],
   "source": [
    "input_data=emulator.prepare_inputs(input_data,learn_scaling=False)\n"
   ]
  },
  {
   "cell_type": "code",
   "execution_count": 18,
   "metadata": {},
   "outputs": [
    {
     "data": {
      "text/html": [
       "<div>\n",
       "<style scoped>\n",
       "    .dataframe tbody tr th:only-of-type {\n",
       "        vertical-align: middle;\n",
       "    }\n",
       "\n",
       "    .dataframe tbody tr th {\n",
       "        vertical-align: top;\n",
       "    }\n",
       "\n",
       "    .dataframe thead th {\n",
       "        text-align: right;\n",
       "    }\n",
       "</style>\n",
       "<table border=\"1\" class=\"dataframe\">\n",
       "  <thead>\n",
       "    <tr style=\"text-align: right;\">\n",
       "      <th></th>\n",
       "      <th>gas_temp</th>\n",
       "      <th>gas_density</th>\n",
       "      <th>local_radfield</th>\n",
       "      <th>zeta</th>\n",
       "      <th>metallicity</th>\n",
       "      <th>Chem_1</th>\n",
       "      <th>Chem_2</th>\n",
       "      <th>Chem_3</th>\n",
       "      <th>Chem_4</th>\n",
       "      <th>Chem_5</th>\n",
       "      <th>Chem_6</th>\n",
       "      <th>Chem_7</th>\n",
       "      <th>Chem_8</th>\n",
       "    </tr>\n",
       "  </thead>\n",
       "  <tbody>\n",
       "    <tr>\n",
       "      <th>0</th>\n",
       "      <td>0.158587</td>\n",
       "      <td>0.353336</td>\n",
       "      <td>0.149923</td>\n",
       "      <td>0.5</td>\n",
       "      <td>0.892502</td>\n",
       "      <td>0.999083</td>\n",
       "      <td>0.408787</td>\n",
       "      <td>0.004807</td>\n",
       "      <td>0.000664</td>\n",
       "      <td>0.993641</td>\n",
       "      <td>0.000014</td>\n",
       "      <td>1.0</td>\n",
       "      <td>0.003847</td>\n",
       "    </tr>\n",
       "    <tr>\n",
       "      <th>1</th>\n",
       "      <td>0.223548</td>\n",
       "      <td>0.389080</td>\n",
       "      <td>0.000000</td>\n",
       "      <td>0.5</td>\n",
       "      <td>0.899653</td>\n",
       "      <td>0.999093</td>\n",
       "      <td>0.408785</td>\n",
       "      <td>0.004653</td>\n",
       "      <td>0.000670</td>\n",
       "      <td>0.993841</td>\n",
       "      <td>0.000002</td>\n",
       "      <td>1.0</td>\n",
       "      <td>0.004021</td>\n",
       "    </tr>\n",
       "    <tr>\n",
       "      <th>2</th>\n",
       "      <td>0.171339</td>\n",
       "      <td>0.385034</td>\n",
       "      <td>0.000000</td>\n",
       "      <td>0.5</td>\n",
       "      <td>0.894493</td>\n",
       "      <td>0.999100</td>\n",
       "      <td>0.408788</td>\n",
       "      <td>0.004795</td>\n",
       "      <td>0.000664</td>\n",
       "      <td>0.993692</td>\n",
       "      <td>0.000011</td>\n",
       "      <td>1.0</td>\n",
       "      <td>0.003818</td>\n",
       "    </tr>\n",
       "    <tr>\n",
       "      <th>3</th>\n",
       "      <td>0.125674</td>\n",
       "      <td>0.420124</td>\n",
       "      <td>0.000000</td>\n",
       "      <td>0.5</td>\n",
       "      <td>0.882059</td>\n",
       "      <td>0.999033</td>\n",
       "      <td>0.408785</td>\n",
       "      <td>0.004965</td>\n",
       "      <td>0.000661</td>\n",
       "      <td>0.993337</td>\n",
       "      <td>0.000046</td>\n",
       "      <td>1.0</td>\n",
       "      <td>0.003779</td>\n",
       "    </tr>\n",
       "    <tr>\n",
       "      <th>4</th>\n",
       "      <td>0.162630</td>\n",
       "      <td>0.379198</td>\n",
       "      <td>0.000000</td>\n",
       "      <td>0.5</td>\n",
       "      <td>0.891514</td>\n",
       "      <td>0.999073</td>\n",
       "      <td>0.408786</td>\n",
       "      <td>0.004809</td>\n",
       "      <td>0.000665</td>\n",
       "      <td>0.993616</td>\n",
       "      <td>0.000016</td>\n",
       "      <td>1.0</td>\n",
       "      <td>0.003871</td>\n",
       "    </tr>\n",
       "    <tr>\n",
       "      <th>...</th>\n",
       "      <td>...</td>\n",
       "      <td>...</td>\n",
       "      <td>...</td>\n",
       "      <td>...</td>\n",
       "      <td>...</td>\n",
       "      <td>...</td>\n",
       "      <td>...</td>\n",
       "      <td>...</td>\n",
       "      <td>...</td>\n",
       "      <td>...</td>\n",
       "      <td>...</td>\n",
       "      <td>...</td>\n",
       "      <td>...</td>\n",
       "    </tr>\n",
       "    <tr>\n",
       "      <th>297043</th>\n",
       "      <td>0.900268</td>\n",
       "      <td>0.000000</td>\n",
       "      <td>0.481611</td>\n",
       "      <td>0.5</td>\n",
       "      <td>0.794076</td>\n",
       "      <td>0.936555</td>\n",
       "      <td>0.404014</td>\n",
       "      <td>0.016293</td>\n",
       "      <td>0.001200</td>\n",
       "      <td>0.117384</td>\n",
       "      <td>0.050033</td>\n",
       "      <td>1.0</td>\n",
       "      <td>0.031141</td>\n",
       "    </tr>\n",
       "    <tr>\n",
       "      <th>297044</th>\n",
       "      <td>0.904114</td>\n",
       "      <td>0.000000</td>\n",
       "      <td>0.481405</td>\n",
       "      <td>0.5</td>\n",
       "      <td>0.794938</td>\n",
       "      <td>0.940873</td>\n",
       "      <td>0.404312</td>\n",
       "      <td>0.015691</td>\n",
       "      <td>0.001186</td>\n",
       "      <td>0.174779</td>\n",
       "      <td>0.048350</td>\n",
       "      <td>1.0</td>\n",
       "      <td>0.030635</td>\n",
       "    </tr>\n",
       "    <tr>\n",
       "      <th>297045</th>\n",
       "      <td>0.905698</td>\n",
       "      <td>0.000000</td>\n",
       "      <td>0.483706</td>\n",
       "      <td>0.5</td>\n",
       "      <td>0.793189</td>\n",
       "      <td>0.941241</td>\n",
       "      <td>0.404340</td>\n",
       "      <td>0.015680</td>\n",
       "      <td>0.001184</td>\n",
       "      <td>0.180616</td>\n",
       "      <td>0.048157</td>\n",
       "      <td>1.0</td>\n",
       "      <td>0.030529</td>\n",
       "    </tr>\n",
       "    <tr>\n",
       "      <th>297046</th>\n",
       "      <td>0.897363</td>\n",
       "      <td>0.000000</td>\n",
       "      <td>0.486004</td>\n",
       "      <td>0.5</td>\n",
       "      <td>0.792170</td>\n",
       "      <td>0.945074</td>\n",
       "      <td>0.404609</td>\n",
       "      <td>0.015166</td>\n",
       "      <td>0.001170</td>\n",
       "      <td>0.239910</td>\n",
       "      <td>0.046485</td>\n",
       "      <td>1.0</td>\n",
       "      <td>0.029979</td>\n",
       "    </tr>\n",
       "    <tr>\n",
       "      <th>297047</th>\n",
       "      <td>0.907157</td>\n",
       "      <td>0.000000</td>\n",
       "      <td>0.489670</td>\n",
       "      <td>0.5</td>\n",
       "      <td>0.794482</td>\n",
       "      <td>0.938947</td>\n",
       "      <td>0.404182</td>\n",
       "      <td>0.015987</td>\n",
       "      <td>0.001192</td>\n",
       "      <td>0.147350</td>\n",
       "      <td>0.049146</td>\n",
       "      <td>1.0</td>\n",
       "      <td>0.030840</td>\n",
       "    </tr>\n",
       "  </tbody>\n",
       "</table>\n",
       "<p>297048 rows × 13 columns</p>\n",
       "</div>"
      ],
      "text/plain": [
       "        gas_temp  gas_density  local_radfield  zeta  metallicity    Chem_1  \\\n",
       "0       0.158587     0.353336        0.149923   0.5     0.892502  0.999083   \n",
       "1       0.223548     0.389080        0.000000   0.5     0.899653  0.999093   \n",
       "2       0.171339     0.385034        0.000000   0.5     0.894493  0.999100   \n",
       "3       0.125674     0.420124        0.000000   0.5     0.882059  0.999033   \n",
       "4       0.162630     0.379198        0.000000   0.5     0.891514  0.999073   \n",
       "...          ...          ...             ...   ...          ...       ...   \n",
       "297043  0.900268     0.000000        0.481611   0.5     0.794076  0.936555   \n",
       "297044  0.904114     0.000000        0.481405   0.5     0.794938  0.940873   \n",
       "297045  0.905698     0.000000        0.483706   0.5     0.793189  0.941241   \n",
       "297046  0.897363     0.000000        0.486004   0.5     0.792170  0.945074   \n",
       "297047  0.907157     0.000000        0.489670   0.5     0.794482  0.938947   \n",
       "\n",
       "          Chem_2    Chem_3    Chem_4    Chem_5    Chem_6  Chem_7    Chem_8  \n",
       "0       0.408787  0.004807  0.000664  0.993641  0.000014     1.0  0.003847  \n",
       "1       0.408785  0.004653  0.000670  0.993841  0.000002     1.0  0.004021  \n",
       "2       0.408788  0.004795  0.000664  0.993692  0.000011     1.0  0.003818  \n",
       "3       0.408785  0.004965  0.000661  0.993337  0.000046     1.0  0.003779  \n",
       "4       0.408786  0.004809  0.000665  0.993616  0.000016     1.0  0.003871  \n",
       "...          ...       ...       ...       ...       ...     ...       ...  \n",
       "297043  0.404014  0.016293  0.001200  0.117384  0.050033     1.0  0.031141  \n",
       "297044  0.404312  0.015691  0.001186  0.174779  0.048350     1.0  0.030635  \n",
       "297045  0.404340  0.015680  0.001184  0.180616  0.048157     1.0  0.030529  \n",
       "297046  0.404609  0.015166  0.001170  0.239910  0.046485     1.0  0.029979  \n",
       "297047  0.404182  0.015987  0.001192  0.147350  0.049146     1.0  0.030840  \n",
       "\n",
       "[297048 rows x 13 columns]"
      ]
     },
     "execution_count": 18,
     "metadata": {},
     "output_type": "execute_result"
    }
   ],
   "source": [
    "input_data"
   ]
  },
  {
   "cell_type": "code",
   "execution_count": 19,
   "metadata": {},
   "outputs": [
    {
     "data": {
      "text/plain": [
       "0         0.892502\n",
       "1         0.899653\n",
       "2         0.894493\n",
       "3         0.882059\n",
       "4         0.891514\n",
       "            ...   \n",
       "297043    0.794076\n",
       "297044    0.794938\n",
       "297045    0.793189\n",
       "297046    0.792170\n",
       "297047    0.794482\n",
       "Name: metallicity, Length: 297048, dtype: float64"
      ]
     },
     "execution_count": 19,
     "metadata": {},
     "output_type": "execute_result"
    }
   ],
   "source": [
    "input_data[\"metallicity\"][input_data[\"metallicity\"] > 0]"
   ]
  },
  {
   "cell_type": "markdown",
   "metadata": {},
   "source": [
    "# Make Predictions\n",
    "\n",
    "Chemulator advances the chemistry by 1000 years each time it is called. So let's call it 1000 times to get the predictions for the next 1 Myr."
   ]
  },
  {
   "cell_type": "code",
   "execution_count": 20,
   "metadata": {},
   "outputs": [
    {
     "name": "stderr",
     "output_type": "stream",
     "text": [
      "/opt/homebrew/Caskroom/miniconda/base/envs/mlp/lib/python3.8/site-packages/keras/engine/training_v1.py:2079: UserWarning: `Model.state_updates` will be removed in a future version. This property should not be used in TensorFlow 2.0, as `updates` are applied automatically.\n",
      "  updates=self.state_updates,\n"
     ]
    },
    {
     "name": "stdout",
     "output_type": "stream",
     "text": [
      "10 steps in 3.1146688993 minutes\n"
     ]
    }
   ],
   "source": [
    "start=perf_counter()\n",
    "nsteps=10\n",
    "predict=emulator.predict_multiple_timesteps(input_data.copy(),nsteps)\n",
    "end=perf_counter()\n",
    "end=(end-start)/60.0\n",
    "print(f\"{nsteps} steps in {end} minutes\")"
   ]
  },
  {
   "cell_type": "code",
   "execution_count": 21,
   "metadata": {},
   "outputs": [
    {
     "name": "stderr",
     "output_type": "stream",
     "text": [
      "/opt/homebrew/Caskroom/miniconda/base/envs/mlp/lib/python3.8/site-packages/keras/engine/training_v1.py:2079: UserWarning: `Model.state_updates` will be removed in a future version. This property should not be used in TensorFlow 2.0, as `updates` are applied automatically.\n",
      "  updates=self.state_updates,\n"
     ]
    }
   ],
   "source": [
    "unscaled_predict=emulator.recover_real_values(predict)"
   ]
  },
  {
   "cell_type": "code",
   "execution_count": 22,
   "metadata": {},
   "outputs": [
    {
     "data": {
      "text/html": [
       "<div>\n",
       "<style scoped>\n",
       "    .dataframe tbody tr th:only-of-type {\n",
       "        vertical-align: middle;\n",
       "    }\n",
       "\n",
       "    .dataframe tbody tr th {\n",
       "        vertical-align: top;\n",
       "    }\n",
       "\n",
       "    .dataframe thead th {\n",
       "        text-align: right;\n",
       "    }\n",
       "</style>\n",
       "<table border=\"1\" class=\"dataframe\">\n",
       "  <thead>\n",
       "    <tr style=\"text-align: right;\">\n",
       "      <th></th>\n",
       "      <th>gas_temp</th>\n",
       "      <th>dust_temp</th>\n",
       "      <th>H</th>\n",
       "      <th>H+</th>\n",
       "      <th>H2</th>\n",
       "      <th>H2+</th>\n",
       "      <th>H3+</th>\n",
       "      <th>HE</th>\n",
       "      <th>HE+</th>\n",
       "      <th>C+</th>\n",
       "      <th>...</th>\n",
       "      <th>H2O</th>\n",
       "      <th>H3O+</th>\n",
       "      <th>MG</th>\n",
       "      <th>MG+</th>\n",
       "      <th>CO+</th>\n",
       "      <th>CO</th>\n",
       "      <th>HCO+</th>\n",
       "      <th>O2</th>\n",
       "      <th>O2+</th>\n",
       "      <th>E-</th>\n",
       "    </tr>\n",
       "  </thead>\n",
       "  <tbody>\n",
       "    <tr>\n",
       "      <th>0</th>\n",
       "      <td>68.330468</td>\n",
       "      <td>15.194149</td>\n",
       "      <td>0.208639</td>\n",
       "      <td>1.593586e-06</td>\n",
       "      <td>0.184697</td>\n",
       "      <td>5.385440e-12</td>\n",
       "      <td>2.813305e-10</td>\n",
       "      <td>0.109164</td>\n",
       "      <td>8.360121e-09</td>\n",
       "      <td>0.000030</td>\n",
       "      <td>...</td>\n",
       "      <td>7.087241e-10</td>\n",
       "      <td>4.469481e-11</td>\n",
       "      <td>1.563375e-08</td>\n",
       "      <td>0.000012</td>\n",
       "      <td>1.648550e-13</td>\n",
       "      <td>1.794590e-03</td>\n",
       "      <td>1.444529e-11</td>\n",
       "      <td>1.630939e-11</td>\n",
       "      <td>1.047969e-13</td>\n",
       "      <td>0.000044</td>\n",
       "    </tr>\n",
       "    <tr>\n",
       "      <th>1</th>\n",
       "      <td>81.822681</td>\n",
       "      <td>21.886142</td>\n",
       "      <td>0.132974</td>\n",
       "      <td>7.420364e-07</td>\n",
       "      <td>0.200349</td>\n",
       "      <td>2.550228e-12</td>\n",
       "      <td>2.409508e-10</td>\n",
       "      <td>0.109378</td>\n",
       "      <td>4.216558e-09</td>\n",
       "      <td>0.000015</td>\n",
       "      <td>...</td>\n",
       "      <td>4.112611e-10</td>\n",
       "      <td>3.644635e-11</td>\n",
       "      <td>7.080646e-09</td>\n",
       "      <td>0.000008</td>\n",
       "      <td>5.128333e-14</td>\n",
       "      <td>1.261672e-03</td>\n",
       "      <td>1.172891e-11</td>\n",
       "      <td>7.003175e-12</td>\n",
       "      <td>6.132071e-14</td>\n",
       "      <td>0.000023</td>\n",
       "    </tr>\n",
       "    <tr>\n",
       "      <th>2</th>\n",
       "      <td>77.011460</td>\n",
       "      <td>21.258059</td>\n",
       "      <td>0.167809</td>\n",
       "      <td>8.277808e-07</td>\n",
       "      <td>0.177064</td>\n",
       "      <td>2.474812e-12</td>\n",
       "      <td>1.704878e-10</td>\n",
       "      <td>0.109812</td>\n",
       "      <td>4.639840e-09</td>\n",
       "      <td>0.000018</td>\n",
       "      <td>...</td>\n",
       "      <td>3.355836e-10</td>\n",
       "      <td>2.795655e-11</td>\n",
       "      <td>8.993267e-09</td>\n",
       "      <td>0.000009</td>\n",
       "      <td>5.594641e-14</td>\n",
       "      <td>1.445668e-03</td>\n",
       "      <td>8.281917e-12</td>\n",
       "      <td>6.218927e-12</td>\n",
       "      <td>5.218876e-14</td>\n",
       "      <td>0.000028</td>\n",
       "    </tr>\n",
       "    <tr>\n",
       "      <th>3</th>\n",
       "      <td>64.877561</td>\n",
       "      <td>22.439114</td>\n",
       "      <td>0.247599</td>\n",
       "      <td>7.521073e-07</td>\n",
       "      <td>0.127911</td>\n",
       "      <td>1.491892e-12</td>\n",
       "      <td>5.762078e-11</td>\n",
       "      <td>0.110857</td>\n",
       "      <td>3.590073e-09</td>\n",
       "      <td>0.000022</td>\n",
       "      <td>...</td>\n",
       "      <td>1.804248e-10</td>\n",
       "      <td>1.276912e-11</td>\n",
       "      <td>1.501575e-08</td>\n",
       "      <td>0.000012</td>\n",
       "      <td>5.105590e-14</td>\n",
       "      <td>2.174371e-03</td>\n",
       "      <td>3.674102e-12</td>\n",
       "      <td>4.935669e-12</td>\n",
       "      <td>3.201869e-14</td>\n",
       "      <td>0.000034</td>\n",
       "    </tr>\n",
       "    <tr>\n",
       "      <th>4</th>\n",
       "      <td>76.241604</td>\n",
       "      <td>20.972930</td>\n",
       "      <td>0.166251</td>\n",
       "      <td>8.820936e-07</td>\n",
       "      <td>0.180548</td>\n",
       "      <td>2.742024e-12</td>\n",
       "      <td>1.899448e-10</td>\n",
       "      <td>0.109758</td>\n",
       "      <td>5.134530e-09</td>\n",
       "      <td>0.000018</td>\n",
       "      <td>...</td>\n",
       "      <td>3.486456e-10</td>\n",
       "      <td>2.937240e-11</td>\n",
       "      <td>8.804081e-09</td>\n",
       "      <td>0.000009</td>\n",
       "      <td>5.891029e-14</td>\n",
       "      <td>1.388006e-03</td>\n",
       "      <td>8.623323e-12</td>\n",
       "      <td>6.225923e-12</td>\n",
       "      <td>5.391060e-14</td>\n",
       "      <td>0.000028</td>\n",
       "    </tr>\n",
       "    <tr>\n",
       "      <th>...</th>\n",
       "      <td>...</td>\n",
       "      <td>...</td>\n",
       "      <td>...</td>\n",
       "      <td>...</td>\n",
       "      <td>...</td>\n",
       "      <td>...</td>\n",
       "      <td>...</td>\n",
       "      <td>...</td>\n",
       "      <td>...</td>\n",
       "      <td>...</td>\n",
       "      <td>...</td>\n",
       "      <td>...</td>\n",
       "      <td>...</td>\n",
       "      <td>...</td>\n",
       "      <td>...</td>\n",
       "      <td>...</td>\n",
       "      <td>...</td>\n",
       "      <td>...</td>\n",
       "      <td>...</td>\n",
       "      <td>...</td>\n",
       "      <td>...</td>\n",
       "    </tr>\n",
       "    <tr>\n",
       "      <th>297043</th>\n",
       "      <td>637.751235</td>\n",
       "      <td>12.271002</td>\n",
       "      <td>1.000000</td>\n",
       "      <td>1.400669e-04</td>\n",
       "      <td>0.006712</td>\n",
       "      <td>1.252994e-12</td>\n",
       "      <td>4.961161e-12</td>\n",
       "      <td>0.105835</td>\n",
       "      <td>2.935847e-07</td>\n",
       "      <td>0.000019</td>\n",
       "      <td>...</td>\n",
       "      <td>2.727389e-09</td>\n",
       "      <td>1.748314e-09</td>\n",
       "      <td>7.350579e-11</td>\n",
       "      <td>0.000004</td>\n",
       "      <td>4.000925e-12</td>\n",
       "      <td>1.296262e-07</td>\n",
       "      <td>1.356133e-10</td>\n",
       "      <td>1.821077e-12</td>\n",
       "      <td>2.990733e-10</td>\n",
       "      <td>0.000164</td>\n",
       "    </tr>\n",
       "    <tr>\n",
       "      <th>297044</th>\n",
       "      <td>635.932948</td>\n",
       "      <td>12.655947</td>\n",
       "      <td>1.000000</td>\n",
       "      <td>1.380231e-04</td>\n",
       "      <td>0.005158</td>\n",
       "      <td>1.116695e-12</td>\n",
       "      <td>3.380799e-12</td>\n",
       "      <td>0.106562</td>\n",
       "      <td>1.990004e-07</td>\n",
       "      <td>0.000018</td>\n",
       "      <td>...</td>\n",
       "      <td>1.273482e-09</td>\n",
       "      <td>9.968604e-10</td>\n",
       "      <td>5.937732e-11</td>\n",
       "      <td>0.000004</td>\n",
       "      <td>1.909980e-12</td>\n",
       "      <td>1.340653e-07</td>\n",
       "      <td>7.197055e-11</td>\n",
       "      <td>7.531420e-13</td>\n",
       "      <td>2.415574e-10</td>\n",
       "      <td>0.000160</td>\n",
       "    </tr>\n",
       "    <tr>\n",
       "      <th>297045</th>\n",
       "      <td>638.901518</td>\n",
       "      <td>12.918139</td>\n",
       "      <td>1.000000</td>\n",
       "      <td>1.305308e-04</td>\n",
       "      <td>0.004165</td>\n",
       "      <td>9.514875e-13</td>\n",
       "      <td>2.292265e-12</td>\n",
       "      <td>0.107438</td>\n",
       "      <td>1.510892e-07</td>\n",
       "      <td>0.000017</td>\n",
       "      <td>...</td>\n",
       "      <td>6.552891e-10</td>\n",
       "      <td>5.842744e-10</td>\n",
       "      <td>5.197101e-11</td>\n",
       "      <td>0.000005</td>\n",
       "      <td>1.048798e-12</td>\n",
       "      <td>1.099866e-07</td>\n",
       "      <td>4.184798e-11</td>\n",
       "      <td>3.977737e-13</td>\n",
       "      <td>1.896497e-10</td>\n",
       "      <td>0.000152</td>\n",
       "    </tr>\n",
       "    <tr>\n",
       "      <th>297046</th>\n",
       "      <td>639.880366</td>\n",
       "      <td>13.251451</td>\n",
       "      <td>1.000000</td>\n",
       "      <td>1.341487e-04</td>\n",
       "      <td>0.004224</td>\n",
       "      <td>1.029433e-12</td>\n",
       "      <td>2.536684e-12</td>\n",
       "      <td>0.107358</td>\n",
       "      <td>1.530733e-07</td>\n",
       "      <td>0.000017</td>\n",
       "      <td>...</td>\n",
       "      <td>6.374432e-10</td>\n",
       "      <td>6.208421e-10</td>\n",
       "      <td>4.829422e-11</td>\n",
       "      <td>0.000005</td>\n",
       "      <td>1.032591e-12</td>\n",
       "      <td>1.178338e-07</td>\n",
       "      <td>4.375267e-11</td>\n",
       "      <td>3.516774e-13</td>\n",
       "      <td>1.987388e-10</td>\n",
       "      <td>0.000155</td>\n",
       "    </tr>\n",
       "    <tr>\n",
       "      <th>297047</th>\n",
       "      <td>649.740524</td>\n",
       "      <td>13.270153</td>\n",
       "      <td>1.000000</td>\n",
       "      <td>1.100876e-04</td>\n",
       "      <td>0.002817</td>\n",
       "      <td>6.762922e-13</td>\n",
       "      <td>1.017432e-12</td>\n",
       "      <td>0.109716</td>\n",
       "      <td>1.105251e-07</td>\n",
       "      <td>0.000016</td>\n",
       "      <td>...</td>\n",
       "      <td>1.833158e-10</td>\n",
       "      <td>1.850468e-10</td>\n",
       "      <td>4.784129e-11</td>\n",
       "      <td>0.000005</td>\n",
       "      <td>3.888505e-13</td>\n",
       "      <td>6.571336e-08</td>\n",
       "      <td>1.592777e-11</td>\n",
       "      <td>1.620305e-13</td>\n",
       "      <td>1.120682e-10</td>\n",
       "      <td>0.000131</td>\n",
       "    </tr>\n",
       "  </tbody>\n",
       "</table>\n",
       "<p>297048 rows × 35 columns</p>\n",
       "</div>"
      ],
      "text/plain": [
       "          gas_temp  dust_temp         H            H+        H2           H2+  \\\n",
       "0        68.330468  15.194149  0.208639  1.593586e-06  0.184697  5.385440e-12   \n",
       "1        81.822681  21.886142  0.132974  7.420364e-07  0.200349  2.550228e-12   \n",
       "2        77.011460  21.258059  0.167809  8.277808e-07  0.177064  2.474812e-12   \n",
       "3        64.877561  22.439114  0.247599  7.521073e-07  0.127911  1.491892e-12   \n",
       "4        76.241604  20.972930  0.166251  8.820936e-07  0.180548  2.742024e-12   \n",
       "...            ...        ...       ...           ...       ...           ...   \n",
       "297043  637.751235  12.271002  1.000000  1.400669e-04  0.006712  1.252994e-12   \n",
       "297044  635.932948  12.655947  1.000000  1.380231e-04  0.005158  1.116695e-12   \n",
       "297045  638.901518  12.918139  1.000000  1.305308e-04  0.004165  9.514875e-13   \n",
       "297046  639.880366  13.251451  1.000000  1.341487e-04  0.004224  1.029433e-12   \n",
       "297047  649.740524  13.270153  1.000000  1.100876e-04  0.002817  6.762922e-13   \n",
       "\n",
       "                 H3+        HE           HE+        C+  ...           H2O  \\\n",
       "0       2.813305e-10  0.109164  8.360121e-09  0.000030  ...  7.087241e-10   \n",
       "1       2.409508e-10  0.109378  4.216558e-09  0.000015  ...  4.112611e-10   \n",
       "2       1.704878e-10  0.109812  4.639840e-09  0.000018  ...  3.355836e-10   \n",
       "3       5.762078e-11  0.110857  3.590073e-09  0.000022  ...  1.804248e-10   \n",
       "4       1.899448e-10  0.109758  5.134530e-09  0.000018  ...  3.486456e-10   \n",
       "...              ...       ...           ...       ...  ...           ...   \n",
       "297043  4.961161e-12  0.105835  2.935847e-07  0.000019  ...  2.727389e-09   \n",
       "297044  3.380799e-12  0.106562  1.990004e-07  0.000018  ...  1.273482e-09   \n",
       "297045  2.292265e-12  0.107438  1.510892e-07  0.000017  ...  6.552891e-10   \n",
       "297046  2.536684e-12  0.107358  1.530733e-07  0.000017  ...  6.374432e-10   \n",
       "297047  1.017432e-12  0.109716  1.105251e-07  0.000016  ...  1.833158e-10   \n",
       "\n",
       "                H3O+            MG       MG+           CO+            CO  \\\n",
       "0       4.469481e-11  1.563375e-08  0.000012  1.648550e-13  1.794590e-03   \n",
       "1       3.644635e-11  7.080646e-09  0.000008  5.128333e-14  1.261672e-03   \n",
       "2       2.795655e-11  8.993267e-09  0.000009  5.594641e-14  1.445668e-03   \n",
       "3       1.276912e-11  1.501575e-08  0.000012  5.105590e-14  2.174371e-03   \n",
       "4       2.937240e-11  8.804081e-09  0.000009  5.891029e-14  1.388006e-03   \n",
       "...              ...           ...       ...           ...           ...   \n",
       "297043  1.748314e-09  7.350579e-11  0.000004  4.000925e-12  1.296262e-07   \n",
       "297044  9.968604e-10  5.937732e-11  0.000004  1.909980e-12  1.340653e-07   \n",
       "297045  5.842744e-10  5.197101e-11  0.000005  1.048798e-12  1.099866e-07   \n",
       "297046  6.208421e-10  4.829422e-11  0.000005  1.032591e-12  1.178338e-07   \n",
       "297047  1.850468e-10  4.784129e-11  0.000005  3.888505e-13  6.571336e-08   \n",
       "\n",
       "                HCO+            O2           O2+        E-  \n",
       "0       1.444529e-11  1.630939e-11  1.047969e-13  0.000044  \n",
       "1       1.172891e-11  7.003175e-12  6.132071e-14  0.000023  \n",
       "2       8.281917e-12  6.218927e-12  5.218876e-14  0.000028  \n",
       "3       3.674102e-12  4.935669e-12  3.201869e-14  0.000034  \n",
       "4       8.623323e-12  6.225923e-12  5.391060e-14  0.000028  \n",
       "...              ...           ...           ...       ...  \n",
       "297043  1.356133e-10  1.821077e-12  2.990733e-10  0.000164  \n",
       "297044  7.197055e-11  7.531420e-13  2.415574e-10  0.000160  \n",
       "297045  4.184798e-11  3.977737e-13  1.896497e-10  0.000152  \n",
       "297046  4.375267e-11  3.516774e-13  1.987388e-10  0.000155  \n",
       "297047  1.592777e-11  1.620305e-13  1.120682e-10  0.000131  \n",
       "\n",
       "[297048 rows x 35 columns]"
      ]
     },
     "execution_count": 22,
     "metadata": {},
     "output_type": "execute_result"
    }
   ],
   "source": [
    "unscaled_predict"
   ]
  },
  {
   "cell_type": "code",
   "execution_count": 23,
   "metadata": {},
   "outputs": [],
   "source": [
    "snap = 60\n",
    "filename_w = 'Chemulator_snap_%03d.hdf5' % snap\n",
    "fw = h5py.File(filename_w, \"w\")\n",
    "label = [\"gas_temp\",\"dust_temp\",\"H\",\"H+\",\"H2\",\"H2+\",\"H3+\",\"HE\",\"HE+\",\"C+\",\"C\",\"CH\",\"CH+\",\"CH2\",\"CH2+\",\"CH3+\",\"CH3\",\"CH4+\",\"O+\",\"CH4\",\"O\",\"CH5+\",\"OH+\",\"OH\",\"H2O+\",\"H2O\",\"H3O+\",\"MG\",\"MG+\",\"CO+\",\"CO\",\"HCO+\",\"O2\",\"O2+\",\"E-\"]\n",
    "\n",
    "for i,variable in enumerate(label):\n",
    "    fw.create_dataset(variable,data=unscaled_predict[variable],chunks = True)\n",
    "#fw  = h5py.File(\"Pr_snap_60.hdf5\", \"r\")"
   ]
  },
  {
   "cell_type": "code",
   "execution_count": 24,
   "metadata": {},
   "outputs": [],
   "source": [
    "prediction  = h5py.File(filename_w, \"r\")"
   ]
  },
  {
   "cell_type": "code",
   "execution_count": 32,
   "metadata": {},
   "outputs": [],
   "source": [
    "# prediction[\"CO\"][()]"
   ]
  },
  {
   "cell_type": "code",
   "execution_count": 26,
   "metadata": {},
   "outputs": [
    {
     "data": {
      "text/plain": [
       "<KeysViewHDF5 ['C', 'C+', 'CH', 'CH+', 'CH2', 'CH2+', 'CH3', 'CH3+', 'CH4', 'CH4+', 'CH5+', 'CO', 'CO+', 'E-', 'H', 'H+', 'H2', 'H2+', 'H2O', 'H2O+', 'H3+', 'H3O+', 'HCO+', 'HE', 'HE+', 'MG', 'MG+', 'O', 'O+', 'O2', 'O2+', 'OH', 'OH+', 'dust_temp', 'gas_temp']>"
      ]
     },
     "execution_count": 26,
     "metadata": {},
     "output_type": "execute_result"
    }
   ],
   "source": [
    "prediction.keys()"
   ]
  },
  {
   "cell_type": "code",
   "execution_count": 31,
   "metadata": {
    "scrolled": true
   },
   "outputs": [],
   "source": [
    "# fig,axes=plt.subplots(2,2,figsize=(10,10))\n",
    "# axes=axes.flatten()\n",
    "# # for i,variable in enumerate([\"gas_temp\",\"dust_temp\",\"CO\",\"H2\"]):\n",
    "# #     sns.histplot(np.log10(prediction[variable][()]),ax=axes[i])\n",
    "    \n",
    "# for i,variable in enumerate([\"gas_temp\",\"CO\",\"H2\"]):\n",
    "#     g = sns.histplot(x=np.log10(input_data[variable]),y=np.log10(prediction[variable][()]), ax = axes[i])\n",
    "#     g.axes.axline((0,0), slope=1.0, c=\".2\", ls=\"--\", zorder=0.)\n",
    "    "
   ]
  },
  {
   "cell_type": "code",
   "execution_count": 30,
   "metadata": {},
   "outputs": [
    {
     "ename": "FileNotFoundError",
     "evalue": "[Errno 2] Unable to open file (unable to open file: name = '/Users/raouf/Work_space/projects/ParticleGridMapper.jl/main_snap/CHIMES_1205_1e6/snapshot_060_eqm_1e6.hdf5', errno = 2, error message = 'No such file or directory', flags = 0, o_flags = 0)",
     "output_type": "error",
     "traceback": [
      "\u001b[0;31m---------------------------------------------------------------------------\u001b[0m",
      "\u001b[0;31mFileNotFoundError\u001b[0m                         Traceback (most recent call last)",
      "Input \u001b[0;32mIn [30]\u001b[0m, in \u001b[0;36m<cell line: 2>\u001b[0;34m()\u001b[0m\n\u001b[1;32m      1\u001b[0m filename \u001b[38;5;241m=\u001b[39m \u001b[38;5;124m\"\u001b[39m\u001b[38;5;124m/Users/raouf/Work_space/projects/ParticleGridMapper.jl/main_snap/CHIMES_1205_1e6/snapshot_060_eqm_1e6.hdf5\u001b[39m\u001b[38;5;124m\"\u001b[39m\n\u001b[0;32m----> 2\u001b[0m f2 \u001b[38;5;241m=\u001b[39m \u001b[43mh5py\u001b[49m\u001b[38;5;241;43m.\u001b[39;49m\u001b[43mFile\u001b[49m\u001b[43m(\u001b[49m\u001b[43mfilename\u001b[49m\u001b[43m,\u001b[49m\u001b[43m \u001b[49m\u001b[38;5;124;43m\"\u001b[39;49m\u001b[38;5;124;43mr\u001b[39;49m\u001b[38;5;124;43m\"\u001b[39;49m\u001b[43m)\u001b[49m\n",
      "File \u001b[0;32m/opt/homebrew/Caskroom/miniconda/base/envs/mlp/lib/python3.8/site-packages/h5py/_hl/files.py:507\u001b[0m, in \u001b[0;36mFile.__init__\u001b[0;34m(self, name, mode, driver, libver, userblock_size, swmr, rdcc_nslots, rdcc_nbytes, rdcc_w0, track_order, fs_strategy, fs_persist, fs_threshold, fs_page_size, page_buf_size, min_meta_keep, min_raw_keep, locking, **kwds)\u001b[0m\n\u001b[1;32m    502\u001b[0m     fapl \u001b[38;5;241m=\u001b[39m make_fapl(driver, libver, rdcc_nslots, rdcc_nbytes, rdcc_w0,\n\u001b[1;32m    503\u001b[0m                      locking, page_buf_size, min_meta_keep, min_raw_keep, \u001b[38;5;241m*\u001b[39m\u001b[38;5;241m*\u001b[39mkwds)\n\u001b[1;32m    504\u001b[0m     fcpl \u001b[38;5;241m=\u001b[39m make_fcpl(track_order\u001b[38;5;241m=\u001b[39mtrack_order, fs_strategy\u001b[38;5;241m=\u001b[39mfs_strategy,\n\u001b[1;32m    505\u001b[0m                      fs_persist\u001b[38;5;241m=\u001b[39mfs_persist, fs_threshold\u001b[38;5;241m=\u001b[39mfs_threshold,\n\u001b[1;32m    506\u001b[0m                      fs_page_size\u001b[38;5;241m=\u001b[39mfs_page_size)\n\u001b[0;32m--> 507\u001b[0m     fid \u001b[38;5;241m=\u001b[39m \u001b[43mmake_fid\u001b[49m\u001b[43m(\u001b[49m\u001b[43mname\u001b[49m\u001b[43m,\u001b[49m\u001b[43m \u001b[49m\u001b[43mmode\u001b[49m\u001b[43m,\u001b[49m\u001b[43m \u001b[49m\u001b[43muserblock_size\u001b[49m\u001b[43m,\u001b[49m\u001b[43m \u001b[49m\u001b[43mfapl\u001b[49m\u001b[43m,\u001b[49m\u001b[43m \u001b[49m\u001b[43mfcpl\u001b[49m\u001b[43m,\u001b[49m\u001b[43m \u001b[49m\u001b[43mswmr\u001b[49m\u001b[38;5;241;43m=\u001b[39;49m\u001b[43mswmr\u001b[49m\u001b[43m)\u001b[49m\n\u001b[1;32m    509\u001b[0m \u001b[38;5;28;01mif\u001b[39;00m \u001b[38;5;28misinstance\u001b[39m(libver, \u001b[38;5;28mtuple\u001b[39m):\n\u001b[1;32m    510\u001b[0m     \u001b[38;5;28mself\u001b[39m\u001b[38;5;241m.\u001b[39m_libver \u001b[38;5;241m=\u001b[39m libver\n",
      "File \u001b[0;32m/opt/homebrew/Caskroom/miniconda/base/envs/mlp/lib/python3.8/site-packages/h5py/_hl/files.py:220\u001b[0m, in \u001b[0;36mmake_fid\u001b[0;34m(name, mode, userblock_size, fapl, fcpl, swmr)\u001b[0m\n\u001b[1;32m    218\u001b[0m     \u001b[38;5;28;01mif\u001b[39;00m swmr \u001b[38;5;129;01mand\u001b[39;00m swmr_support:\n\u001b[1;32m    219\u001b[0m         flags \u001b[38;5;241m|\u001b[39m\u001b[38;5;241m=\u001b[39m h5f\u001b[38;5;241m.\u001b[39mACC_SWMR_READ\n\u001b[0;32m--> 220\u001b[0m     fid \u001b[38;5;241m=\u001b[39m \u001b[43mh5f\u001b[49m\u001b[38;5;241;43m.\u001b[39;49m\u001b[43mopen\u001b[49m\u001b[43m(\u001b[49m\u001b[43mname\u001b[49m\u001b[43m,\u001b[49m\u001b[43m \u001b[49m\u001b[43mflags\u001b[49m\u001b[43m,\u001b[49m\u001b[43m \u001b[49m\u001b[43mfapl\u001b[49m\u001b[38;5;241;43m=\u001b[39;49m\u001b[43mfapl\u001b[49m\u001b[43m)\u001b[49m\n\u001b[1;32m    221\u001b[0m \u001b[38;5;28;01melif\u001b[39;00m mode \u001b[38;5;241m==\u001b[39m \u001b[38;5;124m'\u001b[39m\u001b[38;5;124mr+\u001b[39m\u001b[38;5;124m'\u001b[39m:\n\u001b[1;32m    222\u001b[0m     fid \u001b[38;5;241m=\u001b[39m h5f\u001b[38;5;241m.\u001b[39mopen(name, h5f\u001b[38;5;241m.\u001b[39mACC_RDWR, fapl\u001b[38;5;241m=\u001b[39mfapl)\n",
      "File \u001b[0;32mh5py/_objects.pyx:54\u001b[0m, in \u001b[0;36mh5py._objects.with_phil.wrapper\u001b[0;34m()\u001b[0m\n",
      "File \u001b[0;32mh5py/_objects.pyx:55\u001b[0m, in \u001b[0;36mh5py._objects.with_phil.wrapper\u001b[0;34m()\u001b[0m\n",
      "File \u001b[0;32mh5py/h5f.pyx:106\u001b[0m, in \u001b[0;36mh5py.h5f.open\u001b[0;34m()\u001b[0m\n",
      "\u001b[0;31mFileNotFoundError\u001b[0m: [Errno 2] Unable to open file (unable to open file: name = '/Users/raouf/Work_space/projects/ParticleGridMapper.jl/main_snap/CHIMES_1205_1e6/snapshot_060_eqm_1e6.hdf5', errno = 2, error message = 'No such file or directory', flags = 0, o_flags = 0)"
     ]
    }
   ],
   "source": [
    "filename = \"./snapshot_060_eqm_1e6.hdf5\"\n",
    "f2 = h5py.File(filename, \"r\")"
   ]
  },
  {
   "cell_type": "code",
   "execution_count": 34,
   "metadata": {},
   "outputs": [
    {
     "data": {
      "text/plain": [
       "<KeysViewHDF5 ['EqmChemistryAbundances']>"
      ]
     },
     "execution_count": 34,
     "metadata": {},
     "output_type": "execute_result"
    }
   ],
   "source": [
    "f2.keys()"
   ]
  },
  {
   "cell_type": "code",
   "execution_count": 35,
   "metadata": {},
   "outputs": [],
   "source": [
    "#input_data_eqm=get_elemental_abundances(f2[\"EqmChemistryAbundances\"])"
   ]
  },
  {
   "cell_type": "code",
   "execution_count": 36,
   "metadata": {},
   "outputs": [],
   "source": [
    "input_data_eqm=pd.DataFrame()\n",
    "# input_data_eqm"
   ]
  },
  {
   "cell_type": "code",
   "execution_count": 37,
   "metadata": {},
   "outputs": [],
   "source": [
    "input_data_eqm[\"CO\"]=f2[\"EqmChemistryAbundances\"][:,148]\n",
    "input_data_eqm[\"H2\"]=f2[\"EqmChemistryAbundances\"][:,137]\n",
    "\n",
    "# input_data_eqm[\"CO_Chem\"]=unscaled_predict[\"CO\"]\n",
    "# input_data_eqm[\"H2_Chem\"]=unscaled_predict[\"H2\"]"
   ]
  },
  {
   "cell_type": "code",
   "execution_count": 38,
   "metadata": {},
   "outputs": [
    {
     "name": "stderr",
     "output_type": "stream",
     "text": [
      "/opt/homebrew/Caskroom/miniconda/base/envs/mlp/lib/python3.8/site-packages/pandas/core/arraylike.py:397: RuntimeWarning: divide by zero encountered in log10\n",
      "  result = getattr(ufunc, method)(*inputs, **kwargs)\n",
      "/opt/homebrew/Caskroom/miniconda/base/envs/mlp/lib/python3.8/site-packages/pandas/core/arraylike.py:397: RuntimeWarning: divide by zero encountered in log10\n",
      "  result = getattr(ufunc, method)(*inputs, **kwargs)\n"
     ]
    },
    {
     "data": {
      "text/plain": [
       "[(-10.0, 0.0), (0.0, 40000.0)]"
      ]
     },
     "execution_count": 38,
     "metadata": {},
     "output_type": "execute_result"
    },
    {
     "data": {
      "image/png": "[encoded data removed]",
      "text/plain": [
       "<Figure size 720x360 with 2 Axes>"
      ]
     },
     "metadata": {
      "needs_background": "light"
     },
     "output_type": "display_data"
    }
   ],
   "source": [
    "fig,axes=plt.subplots(1,2,figsize=(10,5))\n",
    "axes=axes.flatten()\n",
    "for i,variable in enumerate([\"CO\",\"H2\"]):\n",
    "    sns.histplot(np.log10(input_data_eqm[variable]),ax=axes[i])\n",
    "axes[0].set(xlim=(-20,-5),ylim=(0,40000))\n",
    "axes[1].set(xlim=(-10,0),ylim=(0,40000))\n",
    "# axes[2].set(xlim=(-20,-5),ylim=(0,70000))\n",
    "# axes[3].set(xlim=(-10,0),ylim=(0,70000))"
   ]
  },
  {
   "cell_type": "code",
   "execution_count": 45,
   "metadata": {},
   "outputs": [
    {
     "name": "stderr",
     "output_type": "stream",
     "text": [
      "/opt/homebrew/Caskroom/miniconda/base/envs/mlp/lib/python3.8/site-packages/pandas/core/arraylike.py:397: RuntimeWarning: divide by zero encountered in log10\n",
      "  result = getattr(ufunc, method)(*inputs, **kwargs)\n",
      "/opt/homebrew/Caskroom/miniconda/base/envs/mlp/lib/python3.8/site-packages/pandas/core/arraylike.py:397: RuntimeWarning: divide by zero encountered in log10\n",
      "  result = getattr(ufunc, method)(*inputs, **kwargs)\n"
     ]
    },
    {
     "data": {
      "text/plain": [
       "Text(0.5, 0, 'H2 (CHIMES)')"
      ]
     },
     "execution_count": 45,
     "metadata": {},
     "output_type": "execute_result"
    },
    {
     "data": {
      "image/png": "[encoded data removed]",
      "text/plain": [
       "<Figure size 720x360 with 2 Axes>"
      ]
     },
     "metadata": {
      "needs_background": "light"
     },
     "output_type": "display_data"
    }
   ],
   "source": [
    "input_data[\"CO\"]=f[\"PartType0\"][\"ChimesAbundances\"][:,148]\n",
    "input_data[\"H2\"]=f[\"PartType0\"][\"ChimesAbundances\"][:,137]\n",
    "\n",
    "fig,axes=plt.subplots(1,2,figsize=(10,5))\n",
    "axes=axes.flatten()\n",
    "for i,variable in enumerate([\"CO\",\"H2\"]):\n",
    "    g = sns.histplot(x=np.log10(input_data_eqm[variable]),y=np.log10(prediction[variable][()]), ax = axes[i])\n",
    "    g.axes.axline((-60,-60), slope=1.0, c=\".2\", ls=\"--\", zorder=0.)\n",
    "\n",
    "axes[0].set(xlim=(-20,-5),ylim=(-20,-5)) \n",
    "axes[0].set_ylabel(\"CO (Chemulator)\" , size = 12 )\n",
    "axes[0].set_xlabel( \"CO (CHIMES)\" , size = 12)\n",
    "axes[1].set(xlim=(-10,3),ylim=(-10,3))\n",
    "axes[1].set_ylabel(\"H2 (Chemulator)\" , size = 12 )\n",
    "axes[1].set_xlabel( \"H2 (CHIMES)\" , size = 12)\n",
    "\n",
    "# savename = './plots/Prediction_CHIMES_snap_%03d.pdf' % snap\n",
    "# plt.savefig(savename)\n"
   ]
  },
  {
   "cell_type": "code",
   "execution_count": 46,
   "metadata": {},
   "outputs": [
    {
     "name": "stderr",
     "output_type": "stream",
     "text": [
      "/opt/homebrew/Caskroom/miniconda/base/envs/mlp/lib/python3.8/site-packages/pandas/core/arraylike.py:397: RuntimeWarning: divide by zero encountered in log10\n",
      "  result = getattr(ufunc, method)(*inputs, **kwargs)\n",
      "/opt/homebrew/Caskroom/miniconda/base/envs/mlp/lib/python3.8/site-packages/pandas/core/arraylike.py:397: RuntimeWarning: divide by zero encountered in log10\n",
      "  result = getattr(ufunc, method)(*inputs, **kwargs)\n"
     ]
    },
    {
     "data": {
      "text/plain": [
       "Text(0.5, 0, 'H2 (CHIMES-EQM)')"
      ]
     },
     "execution_count": 46,
     "metadata": {},
     "output_type": "execute_result"
    },
    {
     "data": {
      "image/png": "[encoded data removed]",
      "text/plain": [
       "<Figure size 720x360 with 2 Axes>"
      ]
     },
     "metadata": {
      "needs_background": "light"
     },
     "output_type": "display_data"
    }
   ],
   "source": [
    "fig,axes=plt.subplots(1,2,figsize=(10,5))\n",
    "axes=axes.flatten()\n",
    "for i,variable in enumerate([\"CO\",\"H2\"]):\n",
    "    g = sns.histplot(x=np.log10(input_data_eqm[variable]),y=np.log10(input_data[variable]), ax = axes[i])\n",
    "    g.axes.axline((-60,-60), slope=1.0, c=\".2\", ls=\"--\", zorder=0.)\n",
    "\n",
    "axes[0].set(xlim=(-20,-5),ylim=(-20,-5)) \n",
    "axes[0].set_ylabel(\"CO (CHIMES-Non-Eqm)\" , size = 12 )\n",
    "axes[0].set_xlabel( \"CO (CHIMES-Eqm)\" , size = 12)\n",
    "axes[1].set(xlim=(-10,3),ylim=(-10,3))\n",
    "axes[1].set_ylabel(\"H2 (CHIMES-Non-Eqm)\" , size = 12 )\n",
    "axes[1].set_xlabel( \"H2 (CHIMES-EQM)\" , size = 12)\n"
   ]
  },
  {
   "cell_type": "code",
   "execution_count": null,
   "metadata": {},
   "outputs": [],
   "source": []
  }
 ],
 "metadata": {
  "interpreter": {
   "hash": "40d3a090f54c6569ab1632332b64b2c03c39dcf918b08424e98f38b5ae0af88f"
  },
  "kernelspec": {
   "display_name": "Python 3",
   "language": "python",
   "name": "python3"
  },
  "language_info": {
   "codemirror_mode": {
    "name": "ipython",
    "version": 3
   },
   "file_extension": ".py",
   "mimetype": "text/x-python",
   "name": "python",
   "nbconvert_exporter": "python",
   "pygments_lexer": "ipython3",
   "version": "3.8.13"
  }
 },
 "nbformat": 4,
 "nbformat_minor": 4
}
